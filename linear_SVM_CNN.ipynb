{
  "nbformat": 4,
  "nbformat_minor": 0,
  "metadata": {
    "colab": {
      "provenance": [],
      "mount_file_id": "1CmldSp9RnJHZ6acP728ThWBTdpsEVIEx",
      "authorship_tag": "ABX9TyOMQuMsni8asnLUlvaMRtTd",
      "include_colab_link": true
    },
    "kernelspec": {
      "name": "python3",
      "display_name": "Python 3"
    },
    "language_info": {
      "name": "python"
    }
  },
  "cells": [
    {
      "cell_type": "markdown",
      "metadata": {
        "id": "view-in-github",
        "colab_type": "text"
      },
      "source": [
        "<a href=\"https://colab.research.google.com/github/VivekanandaMudelli/hand_drawn_sketch_recognition/blob/main/linear_SVM_CNN.ipynb\" target=\"_parent\"><img src=\"https://colab.research.google.com/assets/colab-badge.svg\" alt=\"Open In Colab\"/></a>"
      ]
    },
    {
      "cell_type": "code",
      "source": [
        "import pandas as pd\n",
        "import numpy as np\n",
        "from tqdm import tqdm\n",
        "from sklearn.model_selection import train_test_split\n",
        "from sklearn.metrics import accuracy_score\n",
        "from sklearn.svm import LinearSVC\n",
        "import warnings\n",
        "from sklearn.exceptions import ConvergenceWarning\n",
        "import joblib\n",
        "\n",
        "class OneVsRestSVM:\n",
        "    def __init__(self, C, max_iter):\n",
        "        self.C = C\n",
        "        self.max_iter = max_iter\n",
        "        self.classifiers = {}\n",
        "\n",
        "    def fit(self, X, y):\n",
        "        self.unique_classes = np.unique(y)\n",
        "        for cls in tqdm(self.unique_classes, desc=\"Training\"):\n",
        "            binary_y = np.where(y == cls, 1, -1)\n",
        "            with warnings.catch_warnings():\n",
        "                warnings.simplefilter(\"ignore\", ConvergenceWarning)\n",
        "                clf = LinearSVC(C=self.C, max_iter=self.max_iter)\n",
        "                clf.fit(X, binary_y)\n",
        "            self.classifiers[cls] = clf\n",
        "\n",
        "    def predict(self, X):\n",
        "        X = np.array(X)\n",
        "        if X.ndim == 1:\n",
        "            X = X.reshape(1, -1)\n",
        "\n",
        "        predictions = []\n",
        "        for row in X:\n",
        "            scores = {cls: clf.decision_function([row])[0] for cls, clf in self.classifiers.items()}\n",
        "            predictions.append(max(scores, key=scores.get))\n",
        "        return np.array(predictions)\n",
        "\n",
        "    def save_model(self, filename):\n",
        "        joblib.dump({\n",
        "            'C': self.C,\n",
        "            'max_iter': self.max_iter,\n",
        "            'unique_classes': self.unique_classes,\n",
        "            'classifiers': self.classifiers\n",
        "        }, filename)\n",
        "\n",
        "    @classmethod\n",
        "    def load_model(cls, filename):\n",
        "        data = joblib.load(filename)\n",
        "        model = cls(C=data['C'], max_iter=data['max_iter'])\n",
        "        model.unique_classes = data['unique_classes']\n",
        "        model.classifiers = data['classifiers']\n",
        "        return model\n"
      ],
      "metadata": {
        "id": "lpJFH3c4X9lU"
      },
      "execution_count": 3,
      "outputs": []
    },
    {
      "source": [
        "if __name__ == \"__main__\":\n",
        "    data = pd.read_csv('/content/drive/MyDrive/prml/cnn_features_train.csv')\n",
        "    X = data.drop(data.columns[0], axis=1).drop([\"extracted_part\", \"encoded_part\"], axis=1)\n",
        "    y = data[\"encoded_part\"]\n",
        "\n",
        "    X_train, X_test, y_train, y_test = train_test_split(X, y, test_size=0.1, random_state=42)\n",
        "\n",
        "    model = OneVsRestSVM(C=1, max_iter=1000)\n",
        "    model.fit(X_train.values, y_train.values)\n",
        "    model.save_model('onevsrest_svm_model.pkl')\n",
        "\n",
        "    y_pred = model.predict(X_test.values)\n",
        "    accuracy = accuracy_score(y_test, y_pred)\n",
        "    print(f\"Test Accuracy: {accuracy * 100:.2f}%\")"
      ],
      "cell_type": "code",
      "metadata": {
        "colab": {
          "base_uri": "https://localhost:8080/"
        },
        "id": "sVu_EjNlut4z",
        "outputId": "f64d2651-5c43-4074-e8fd-bfc61c6342b5"
      },
      "execution_count": 4,
      "outputs": [
        {
          "output_type": "stream",
          "name": "stderr",
          "text": [
            "Training: 100%|██████████| 250/250 [35:05<00:00,  8.42s/it]\n"
          ]
        },
        {
          "output_type": "stream",
          "name": "stdout",
          "text": [
            "Test Accuracy: 56.50%\n"
          ]
        }
      ]
    }
  ]
}