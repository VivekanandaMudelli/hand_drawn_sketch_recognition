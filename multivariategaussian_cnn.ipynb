{
  "cells": [
    {
      "cell_type": "markdown",
      "metadata": {
        "id": "view-in-github",
        "colab_type": "text"
      },
      "source": [
        "<a href=\"https://colab.research.google.com/github/VivekanandaMudelli/hand_drawn_sketch_recognition/blob/main/multivariategaussian_cnn.ipynb\" target=\"_parent\"><img src=\"https://colab.research.google.com/assets/colab-badge.svg\" alt=\"Open In Colab\"/></a>"
      ]
    },
    {
      "cell_type": "code",
      "execution_count": 1,
      "metadata": {
        "colab": {
          "base_uri": "https://localhost:8080/"
        },
        "id": "wpYtbECiv88r",
        "outputId": "a12c25c3-6275-420c-9691-31d8ce990ce2"
      },
      "outputs": [
        {
          "output_type": "stream",
          "name": "stdout",
          "text": [
            "Drive already mounted at /content/drive; to attempt to forcibly remount, call drive.mount(\"/content/drive\", force_remount=True).\n"
          ]
        }
      ],
      "source": [
        "from google.colab import drive\n",
        "drive.mount('/content/drive')"
      ]
    },
    {
      "cell_type": "code",
      "source": [
        "import numpy as np\n",
        "import pandas as pd\n",
        "from sklearn.model_selection import train_test_split\n",
        "from sklearn.metrics import accuracy_score\n",
        "from scipy.stats import multivariate_normal\n",
        "import joblib\n",
        "import os\n",
        "\n",
        "class BDT:\n",
        "    def __init__(self):\n",
        "        self.priors_prob = {}  # storing the probabilities of labels\n",
        "        self.means = {}        # storing the mean of the same type labels\n",
        "        self.covariances = {}  # storing the covariances for same type of labels\n",
        "        self.labels = None\n",
        "\n",
        "    def fit(self, X, y):\n",
        "        n_samp, n_fea = X.shape  # number of samples and features\n",
        "        self.labels = np.unique(y)  # storing different labels\n",
        "\n",
        "        for label in self.labels:\n",
        "            X_l = X[y == label]\n",
        "            mean_l = np.mean(X_l, axis=0)\n",
        "            # Adding small constant to diagonal to prevent singular matrix\n",
        "            cov_l = np.cov(X_l.T) + np.eye(n_fea) * 1e-6\n",
        "\n",
        "            self.means[label] = mean_l\n",
        "            self.covariances[label] = cov_l\n",
        "            self.priors_prob[label] = X_l.shape[0] / n_samp\n",
        "\n",
        "        return self\n",
        "\n",
        "    def predict(self, X):\n",
        "        if self.labels is None:\n",
        "            raise ValueError(\"Model not fitted yet!\")\n",
        "\n",
        "        log_probs = np.zeros((len(X), len(self.labels)))\n",
        "\n",
        "        for i, label in enumerate(self.labels):\n",
        "            # Calculate log probabilities for each sample for this label\n",
        "            log_likelihood = multivariate_normal.logpdf(\n",
        "                X,\n",
        "                mean=self.means[label],\n",
        "                cov=self.covariances[label]\n",
        "            )\n",
        "            log_probs[:, i] = np.log(self.priors_prob[label]) + log_likelihood\n",
        "\n",
        "        # Return prediction (label with highest probability for each sample)\n",
        "        return self.labels[np.argmax(log_probs, axis=1)]\n",
        "\n",
        "    def save_model(self, filename):\n",
        "        \"\"\"Save the model to a file.\"\"\"\n",
        "        model_data = {\n",
        "            'priors_prob': self.priors_prob,\n",
        "            'means': self.means,\n",
        "            'covariances': self.covariances,\n",
        "            'labels': self.labels\n",
        "        }\n",
        "        joblib.dump(model_data, filename)\n",
        "        print(f\"Model saved to {filename}\")\n",
        "\n",
        "    @classmethod\n",
        "    def load_model(cls, filename):\n",
        "        \"\"\"Load the model from a file.\"\"\"\n",
        "        if not os.path.exists(filename):\n",
        "            raise FileNotFoundError(f\"Model file {filename} not found\")\n",
        "\n",
        "        model_data = joblib.load(filename)\n",
        "\n",
        "        model = cls()\n",
        "        model.priors_prob = model_data['priors_prob']\n",
        "        model.means = model_data['means']\n",
        "        model.covariances = model_data['covariances']\n",
        "        model.labels = model_data['labels']\n",
        "\n",
        "        return model\n"
      ],
      "metadata": {
        "id": "KEut25NeVZpL"
      },
      "execution_count": 2,
      "outputs": []
    },
    {
      "cell_type": "code",
      "source": [
        "if __name__ == \"__main__\":\n",
        "    # Load the data\n",
        "    data = pd.read_csv('/content/drive/MyDrive/prml/cnn_features_train.csv')\n",
        "    X = data.drop(data.columns[0], axis=1).drop([\"extracted_part\", \"encoded_part\"], axis=1)\n",
        "    y = data[\"encoded_part\"]\n",
        "\n",
        "    # Split the data into training and testing sets\n",
        "    X_train, X_test, y_train, y_test = train_test_split(X, y, test_size=0.1, random_state=42)\n",
        "\n",
        "    # Create and train the model (our BDT class no longer takes C or max_iter\n",
        "    # parameters)\n",
        "    model = BDT()\n",
        "    model.fit(X_train.values, y_train.values)\n",
        "\n",
        "    # Evaluate the model on test data\n",
        "    y_pred = model.predict(X_test.values)\n",
        "    accuracy = accuracy_score(y_test, y_pred)\n",
        "    print(f\"Test Accuracy: {accuracy * 100:.2f}%\")\n",
        "\n",
        "    # Save the model\n",
        "    model.save_model('BDT_model.pkl')\n",
        "\n",
        "    # Example of loading the model and making predictions\n",
        "    loaded_model = BDT.load_model('BDT_model.pkl')\n",
        "    sample_prediction = loaded_model.predict(X_test.values[:1])\n",
        "    print(f\"Sample prediction: {sample_prediction[0]}\")\n"
      ],
      "metadata": {
        "colab": {
          "base_uri": "https://localhost:8080/"
        },
        "id": "vUMo93vM1SDA",
        "outputId": "ad91972d-5148-4345-f7dd-af80abe14721"
      },
      "execution_count": null,
      "outputs": [
        {
          "output_type": "stream",
          "name": "stdout",
          "text": [
            "Test Accuracy: 53.87%\n",
            "Model saved to BDT_model.pkl\n"
          ]
        }
      ]
    }
  ],
  "metadata": {
    "colab": {
      "provenance": [],
      "authorship_tag": "ABX9TyPUFCflFff2g1n88rXclFAG",
      "include_colab_link": true
    },
    "kernelspec": {
      "display_name": "Python 3",
      "name": "python3"
    },
    "language_info": {
      "name": "python"
    }
  },
  "nbformat": 4,
  "nbformat_minor": 0
}