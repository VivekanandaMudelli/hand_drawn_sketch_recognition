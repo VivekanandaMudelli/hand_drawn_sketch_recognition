{
  "cells": [
    {
      "cell_type": "markdown",
      "metadata": {
        "id": "view-in-github",
        "colab_type": "text"
      },
      "source": [
        "<a href=\"https://colab.research.google.com/github/VivekanandaMudelli/hand_drawn_sketch_recognition/blob/main/linear_SVM(OVR)_(CNN%2BPCA).ipynb\" target=\"_parent\"><img src=\"https://colab.research.google.com/assets/colab-badge.svg\" alt=\"Open In Colab\"/></a>"
      ]
    },
    {
      "cell_type": "code",
      "source": [
        "import pandas as pd\n",
        "import numpy as np\n",
        "import matplotlib.pyplot as plt\n",
        "from tqdm import tqdm\n",
        "from sklearn.model_selection import train_test_split\n",
        "from sklearn.metrics import accuracy_score\n",
        "from sklearn.decomposition import PCA\n",
        "from sklearn.preprocessing import StandardScaler\n",
        "from sklearn.svm import LinearSVC"
      ],
      "metadata": {
        "id": "FL3k1meQGueJ"
      },
      "execution_count": 28,
      "outputs": []
    },
    {
      "cell_type": "code",
      "source": [
        "class OneVsRestSVM:\n",
        "    def __init__(self, C, max_iter):\n",
        "        self.C = C\n",
        "        self.max_iter = max_iter\n",
        "        self.classifiers = {}\n",
        "\n",
        "    def fit(self, X, y):\n",
        "        self.unique_classes = np.unique(y)\n",
        "        for cls in tqdm(self.unique_classes, desc=\"Training OVR Classifiers\"):\n",
        "            binary_y = np.where(y == cls, 1, -1)\n",
        "            clf = LinearSVC(C=self.C, max_iter=self.max_iter)\n",
        "            clf.fit(X, binary_y)\n",
        "            self.classifiers[cls] = clf\n",
        "\n",
        "    def predict(self, X):\n",
        "        scores = {}\n",
        "        for cls, clf in self.classifiers.items():\n",
        "            scores[cls] = clf.decision_function(X)\n",
        "\n",
        "        predictions = []\n",
        "        for i in range(len(X)):\n",
        "            class_scores = {cls: scores[cls][i] for cls in self.unique_classes}\n",
        "            predicted_class = max(class_scores, key=class_scores.get)\n",
        "            predictions.append(predicted_class)\n",
        "        return predictions\n"
      ],
      "metadata": {
        "id": "ByMajEfWG3Cy"
      },
      "execution_count": 29,
      "outputs": []
    },
    {
      "cell_type": "code",
      "source": [
        "# Load dataset\n",
        "file_path = '/content/drive/MyDrive/prml/cnn_features.csv'\n",
        "data = pd.read_csv(file_path)\n",
        "X = data.drop(data.columns[0], axis=1).drop([\"extracted_part\", \"encoded_part\"], axis=1)\n",
        "y = data[\"encoded_part\"]\n",
        "\n",
        "# Split into train, validation, and test sets\n",
        "X_train_val, X_test, y_train_val, y_test = train_test_split(X, y, test_size=0.1, random_state=42)\n",
        "X_train, X_val, y_train, y_val = train_test_split(X_train_val, y_train_val, test_size=0.1, random_state=42)\n",
        "\n",
        "# Scale features\n",
        "scaler = StandardScaler()  # Initialize scaler outside the loop\n",
        "\n",
        "# Try PCA with different number of components and collect results"
      ],
      "metadata": {
        "id": "YH2r8IBoG_hz"
      },
      "execution_count": 30,
      "outputs": []
    },
    {
      "cell_type": "code",
      "source": [
        "component_range = range(15, min(X.shape[1], 110), 10)\n",
        "accuracies = []\n",
        "for n in component_range:\n",
        "    pca = PCA(n_components=n)\n",
        "\n",
        "    # Fit and transform on scaled training data\n",
        "    X_train_scaled = scaler.fit_transform(X_train) #Moved inside the loop to scale before each PCA fitting.\n",
        "    X_train_pca = pca.fit_transform(X_train_scaled) #This should now be using the correct scaled data\n",
        "\n",
        "    #Only transform the validation data\n",
        "    X_val_scaled = scaler.transform(X_val) #Moved inside the loop to scale before each PCA transform using the training data's scaling.\n",
        "    X_val_pca = pca.transform(X_val_scaled) #This should now be using the correct scaled data\n",
        "\n",
        "    model = OneVsRestSVM(C=1.0, max_iter=1000)\n",
        "    model.fit(X_train_pca, y_train)\n",
        "    y_val_pred = model.predict(X_val_pca)\n",
        "\n",
        "    acc = accuracy_score(y_val, y_val_pred)\n",
        "    accuracies.append(acc)\n",
        "    print(f\"Validation Accuracy with {n} PCA components: {acc*100:.4f}%\")\n",
        "\n",
        "    # Plot PCA components vs validation accuracy\n",
        "plt.figure(figsize=(10, 6))\n",
        "plt.plot(component_range, accuracies, marker='o', linestyle='-')\n",
        "plt.title(\"PCA Components vs Validation Accuracy\")\n",
        "plt.xlabel(\"Number of PCA Components\")\n",
        "plt.ylabel(\"Validation Accuracy\")\n",
        "plt.grid(True)\n",
        "plt.show()\n",
        "\n",
        "# Best number of components\n",
        "best_n = component_range[np.argmax(accuracies)]\n",
        "print(f\"\\nBest PCA Components based on validation: {best_n}, Accuracy: {max(accuracies*100):.4f}%\")\n",
        "\n",
        "# Final training on train+val with best PCA\n",
        "X_trainval_scaled = scaler.fit_transform(X_train_val)\n",
        "X_test_scaled = scaler.transform(X_test)\n",
        "\n",
        "pca = PCA(n_components=best_n)\n",
        "X_trainval_pca = pca.fit_transform(X_trainval_scaled)\n",
        "X_test_pca = pca.transform(X_test_scaled)\n",
        "\n",
        "model = OneVsRestSVM(C=1.0, max_iter=1000)\n",
        "model.fit(X_trainval_pca, y_train_val)\n",
        "y_test_pred = model.predict(X_test_pca)\n",
        "\n",
        "# Final test accuracy\n",
        "final_acc = accuracy_score(y_test, y_test_pred)\n",
        "print(f\"\\nFinal Test Accuracy with {best_n} PCA components: {final_acc*100:.4f}%\")"
      ],
      "metadata": {
        "colab": {
          "base_uri": "https://localhost:8080/",
          "height": 1000
        },
        "id": "ikXKlvvfHFSy",
        "outputId": "3752d5aa-00aa-4cce-be9d-e59f65268c34"
      },
      "execution_count": 31,
      "outputs": [
        {
          "output_type": "stream",
          "name": "stderr",
          "text": [
            "Training OVR Classifiers: 100%|██████████| 250/250 [00:10<00:00, 22.82it/s]\n"
          ]
        },
        {
          "output_type": "stream",
          "name": "stdout",
          "text": [
            "Validation Accuracy with 15 PCA components: 29.1111%\n"
          ]
        },
        {
          "output_type": "stream",
          "name": "stderr",
          "text": [
            "Training OVR Classifiers: 100%|██████████| 250/250 [00:16<00:00, 14.78it/s]\n"
          ]
        },
        {
          "output_type": "stream",
          "name": "stdout",
          "text": [
            "Validation Accuracy with 25 PCA components: 40.7778%\n"
          ]
        },
        {
          "output_type": "stream",
          "name": "stderr",
          "text": [
            "Training OVR Classifiers: 100%|██████████| 250/250 [00:24<00:00, 10.33it/s]\n"
          ]
        },
        {
          "output_type": "stream",
          "name": "stdout",
          "text": [
            "Validation Accuracy with 35 PCA components: 45.5000%\n"
          ]
        },
        {
          "output_type": "stream",
          "name": "stderr",
          "text": [
            "Training OVR Classifiers: 100%|██████████| 250/250 [00:31<00:00,  8.01it/s]\n"
          ]
        },
        {
          "output_type": "stream",
          "name": "stdout",
          "text": [
            "Validation Accuracy with 45 PCA components: 48.4444%\n"
          ]
        },
        {
          "output_type": "stream",
          "name": "stderr",
          "text": [
            "Training OVR Classifiers: 100%|██████████| 250/250 [00:37<00:00,  6.69it/s]\n"
          ]
        },
        {
          "output_type": "stream",
          "name": "stdout",
          "text": [
            "Validation Accuracy with 55 PCA components: 50.4444%\n"
          ]
        },
        {
          "output_type": "stream",
          "name": "stderr",
          "text": [
            "Training OVR Classifiers: 100%|██████████| 250/250 [00:46<00:00,  5.41it/s]\n"
          ]
        },
        {
          "output_type": "stream",
          "name": "stdout",
          "text": [
            "Validation Accuracy with 65 PCA components: 50.2222%\n"
          ]
        },
        {
          "output_type": "stream",
          "name": "stderr",
          "text": [
            "Training OVR Classifiers: 100%|██████████| 250/250 [00:59<00:00,  4.20it/s]\n"
          ]
        },
        {
          "output_type": "stream",
          "name": "stdout",
          "text": [
            "Validation Accuracy with 75 PCA components: 50.3333%\n"
          ]
        },
        {
          "output_type": "stream",
          "name": "stderr",
          "text": [
            "Training OVR Classifiers: 100%|██████████| 250/250 [01:15<00:00,  3.32it/s]\n"
          ]
        },
        {
          "output_type": "stream",
          "name": "stdout",
          "text": [
            "Validation Accuracy with 85 PCA components: 51.0000%\n"
          ]
        },
        {
          "output_type": "stream",
          "name": "stderr",
          "text": [
            "Training OVR Classifiers: 100%|██████████| 250/250 [01:32<00:00,  2.70it/s]\n"
          ]
        },
        {
          "output_type": "stream",
          "name": "stdout",
          "text": [
            "Validation Accuracy with 95 PCA components: 50.1111%\n"
          ]
        },
        {
          "output_type": "stream",
          "name": "stderr",
          "text": [
            "Training OVR Classifiers: 100%|██████████| 250/250 [01:58<00:00,  2.11it/s]\n"
          ]
        },
        {
          "output_type": "stream",
          "name": "stdout",
          "text": [
            "Validation Accuracy with 105 PCA components: 51.2778%\n"
          ]
        },
        {
          "output_type": "display_data",
          "data": {
            "text/plain": [
              "<Figure size 1000x600 with 1 Axes>"
            ],
            "image/png": "[encoded data removed]"
          },
          "metadata": {}
        },
        {
          "output_type": "stream",
          "name": "stdout",
          "text": [
            "\n",
            "Best PCA Components based on validation: 105, Accuracy: 0.5128%\n"
          ]
        },
        {
          "output_type": "stream",
          "name": "stderr",
          "text": [
            "Training OVR Classifiers: 100%|██████████| 250/250 [02:04<00:00,  2.00it/s]\n"
          ]
        },
        {
          "output_type": "stream",
          "name": "stdout",
          "text": [
            "\n",
            "Final Test Accuracy with 105 PCA components: 51.2500%\n"
          ]
        }
      ]
    }
  ],
  "metadata": {
    "colab": {
      "provenance": [],
      "mount_file_id": "1rwCKlPxt4mNET2EcSV4GSMP3E1hVHxaW",
      "authorship_tag": "ABX9TyPYBKl+TeCE/s16IOVd2e3E",
      "include_colab_link": true
    },
    "kernelspec": {
      "display_name": "Python 3",
      "name": "python3"
    },
    "language_info": {
      "name": "python"
    }
  },
  "nbformat": 4,
  "nbformat_minor": 0
}