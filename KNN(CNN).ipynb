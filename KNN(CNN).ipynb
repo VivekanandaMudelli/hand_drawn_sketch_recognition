{
  "nbformat": 4,
  "nbformat_minor": 0,
  "metadata": {
    "colab": {
      "provenance": [],
      "include_colab_link": true
    },
    "kernelspec": {
      "name": "python3",
      "display_name": "Python 3"
    },
    "language_info": {
      "name": "python"
    }
  },
  "cells": [
    {
      "cell_type": "markdown",
      "metadata": {
        "id": "view-in-github",
        "colab_type": "text"
      },
      "source": [
        "<a href=\"https://colab.research.google.com/github/VivekanandaMudelli/hand_drawn_sketch_recognition/blob/main/KNN(CNN).ipynb\" target=\"_parent\"><img src=\"https://colab.research.google.com/assets/colab-badge.svg\" alt=\"Open In Colab\"/></a>"
      ]
    },
    {
      "cell_type": "code",
      "source": [
        "import gdown\n",
        "import pandas as pd\n",
        "import matplotlib.pyplot as plt\n",
        "import numpy as np\n",
        "from sklearn.model_selection import train_test_split\n",
        "from sklearn.metrics import accuracy_score\n",
        "from tqdm import tqdm"
      ],
      "metadata": {
        "id": "_3AZNI10_vV4"
      },
      "execution_count": 42,
      "outputs": []
    },
    {
      "cell_type": "code",
      "source": [
        "file_id = \"1QfzguI680h2Od7VXoPTypVr2h-DWwvkk\"\n",
        "\n",
        "# Construct the direct download URL\n",
        "download_url = f\"https://drive.google.com/uc?id={file_id}\"\n",
        "\n",
        "# Download the file\n",
        "output = \"data.csv\"  # Change filename as needed\n",
        "gdown.download(download_url, output, quiet=False)\n",
        "\n",
        "# Read the CSV file\n",
        "data = pd.read_csv(output)\n",
        "data = data.dropna()\n",
        "\n",
        "X = data.drop(data.columns[0],axis = 1).drop(columns = ['encoded_part','extracted_part'])\n",
        "y = data['encoded_part']\n",
        "\n",
        "print(X.shape)\n",
        "print(y.shape)"
      ],
      "metadata": {
        "colab": {
          "base_uri": "https://localhost:8080/"
        },
        "id": "5lQjtSqFd6ZF",
        "outputId": "22e1385c-ad6e-45d3-998d-eb1d51f14567"
      },
      "execution_count": 45,
      "outputs": [
        {
          "output_type": "stream",
          "name": "stderr",
          "text": [
            "Downloading...\n",
            "From (original): https://drive.google.com/uc?id=1QfzguI680h2Od7VXoPTypVr2h-DWwvkk\n",
            "From (redirected): https://drive.google.com/uc?id=1QfzguI680h2Od7VXoPTypVr2h-DWwvkk&confirm=t&uuid=59e40022-ca9c-42ec-bc40-1a10f219270a\n",
            "To: /content/data.csv\n",
            "100%|██████████| 634M/634M [00:06<00:00, 99.4MB/s]\n"
          ]
        },
        {
          "output_type": "stream",
          "name": "stdout",
          "text": [
            "(16000, 2048)\n",
            "(16000,)\n"
          ]
        }
      ]
    },
    {
      "cell_type": "code",
      "source": [
        "def distance(x,y):\n",
        "  return np.linalg.norm(x-y)"
      ],
      "metadata": {
        "id": "ngNG7a3T_96m"
      },
      "execution_count": 34,
      "outputs": []
    },
    {
      "cell_type": "code",
      "source": [
        "def k_nearest_neighbors(p, points, k):\n",
        "    dist = [distance(p,p1) for p1 in points]\n",
        "    neighborId = np.argsort(dist)\n",
        "    neighbor = [points[i] for i in neighborId[:k]]\n",
        "\n",
        "    Knn = [neighbor,neighborId[:k]]\n",
        "    return Knn"
      ],
      "metadata": {
        "id": "dtxNbN17AAdj"
      },
      "execution_count": 35,
      "outputs": []
    },
    {
      "cell_type": "code",
      "source": [
        "import statistics as st\n",
        "\n",
        "def knn_predict(X_train, y_train, testPoint, k):\n",
        "  a,b = k_nearest_neighbors(testPoint,X_train,k)# a maps to the list of points and b maps to the list of indices\n",
        "  k_labels = [y_train[i] for i in b] #list of labels for the k nearest neighbors\n",
        "  return st.mode(k_labels)"
      ],
      "metadata": {
        "id": "WUOn_m1kN770"
      },
      "execution_count": 36,
      "outputs": []
    },
    {
      "cell_type": "code",
      "source": [
        "X_train, X_val, y_train, y_val = train_test_split(X, y, train_size=0.85, random_state=42)\n",
        "X_train=X_train.values\n",
        "y_train=y_train.values\n",
        "X_val=X_val.values\n",
        "y_val=y_val.values"
      ],
      "metadata": {
        "id": "re1O-0N7NrK7"
      },
      "execution_count": 46,
      "outputs": []
    },
    {
      "cell_type": "code",
      "source": [
        "import matplotlib.pyplot as plt\n",
        "from sklearn.neighbors import KNeighborsClassifier\n",
        "from sklearn.metrics import accuracy_score\n",
        "\n",
        "k_values = range(1, 21)\n",
        "accuracies = []\n",
        "\n",
        "for k in k_values:\n",
        "    knn = KNeighborsClassifier(n_neighbors=k)\n",
        "    knn.fit(X_train, y_train)\n",
        "    y_pred = knn.predict(X_val)\n",
        "    acc = accuracy_score(y_val, y_pred)\n",
        "    accuracies.append(acc)\n",
        "\n",
        "plt.figure(figsize=(10, 5))\n",
        "plt.plot(k_values, accuracies, marker='o', linestyle='-')\n",
        "plt.title(\"KNN Accuracy for different k values\")\n",
        "plt.xlabel(\"k\")\n",
        "plt.ylabel(\"Accuracy\")\n",
        "plt.grid(True)\n",
        "plt.show()"
      ],
      "metadata": {
        "colab": {
          "base_uri": "https://localhost:8080/",
          "height": 487
        },
        "id": "RWE4CPYo_ixz",
        "outputId": "f3292812-0804-4fbd-9bc2-17d93dd2e07a"
      },
      "execution_count": 47,
      "outputs": [
        {
          "output_type": "display_data",
          "data": {
            "text/plain": [
              "<Figure size 1000x500 with 1 Axes>"
            ],
            "image/png": "[encoded data removed]"
          },
          "metadata": {}
        }
      ]
    },
    {
      "cell_type": "code",
      "source": [
        "max_accuracy = max(accuracies)\n",
        "max_k = k_values[accuracies.index(max_accuracy)]\n",
        "max_k"
      ],
      "metadata": {
        "colab": {
          "base_uri": "https://localhost:8080/"
        },
        "id": "lbEMDWfhCQ3u",
        "outputId": "46e23b91-be51-4a65-f352-43664e7f93e0"
      },
      "execution_count": 49,
      "outputs": [
        {
          "output_type": "execute_result",
          "data": {
            "text/plain": [
              "15"
            ]
          },
          "metadata": {},
          "execution_count": 49
        }
      ]
    },
    {
      "cell_type": "code",
      "source": [
        "k= max_k\n",
        "predictions=[]\n",
        "for testPoint in tqdm(X_val, desc=\"Predicting\", unit=\"sample\"):\n",
        "    predictions.append(knn_predict(X_train, y_train, testPoint, k))"
      ],
      "metadata": {
        "colab": {
          "base_uri": "https://localhost:8080/"
        },
        "id": "b7w75bnYNvps",
        "outputId": "89bf6825-d3be-4c95-8d04-317cbd50e00a"
      },
      "execution_count": 50,
      "outputs": [
        {
          "output_type": "stream",
          "name": "stderr",
          "text": [
            "Predicting: 100%|██████████| 2400/2400 [17:35<00:00,  2.27sample/s]\n"
          ]
        }
      ]
    },
    {
      "cell_type": "code",
      "source": [
        "accuracy = accuracy_score(y_val, predictions)\n",
        "print(f'Validation Accuracy: {accuracy * 100:.2f}%')"
      ],
      "metadata": {
        "colab": {
          "base_uri": "https://localhost:8080/"
        },
        "id": "mrgHsVBHNzCE",
        "outputId": "782eeb86-f00e-480e-dea9-48513b1c5dbd"
      },
      "execution_count": 51,
      "outputs": [
        {
          "output_type": "stream",
          "name": "stdout",
          "text": [
            "Validation Accuracy: 39.88%\n"
          ]
        }
      ]
    }
  ]
}