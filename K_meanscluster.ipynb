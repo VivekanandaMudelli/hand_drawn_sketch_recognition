{
  "cells": [
    {
      "cell_type": "markdown",
      "metadata": {
        "id": "view-in-github",
        "colab_type": "text"
      },
      "source": [
        "<a href=\"https://colab.research.google.com/github/VivekanandaMudelli/hand_drawn_sketch_recognition/blob/main/K_meanscluster.ipynb\" target=\"_parent\"><img src=\"https://colab.research.google.com/assets/colab-badge.svg\" alt=\"Open In Colab\"/></a>"
      ]
    },
    {
      "cell_type": "code",
      "execution_count": null,
      "metadata": {
        "id": "yyHOaApQ8Z_6"
      },
      "outputs": [],
      "source": [
        "import gdown\n",
        "import pandas as pd\n",
        "import matplotlib.pyplot as plt\n",
        "import numpy as np"
      ]
    },
    {
      "cell_type": "code",
      "execution_count": null,
      "metadata": {
        "colab": {
          "base_uri": "https://localhost:8080/"
        },
        "id": "g8Hp-OH98ev7",
        "outputId": "8e8ac85a-4c30-409a-e6d4-8700c3e59674"
      },
      "outputs": [
        {
          "output_type": "stream",
          "name": "stderr",
          "text": [
            "Downloading...\n",
            "From (original): https://drive.google.com/uc?id=1EFQlS9C4YGT5CNjD_NX_Q-HaiyLH4sjE\n",
            "From (redirected): https://drive.google.com/uc?id=1EFQlS9C4YGT5CNjD_NX_Q-HaiyLH4sjE&confirm=t&uuid=7549efea-3d84-4f41-acd3-a6a19d08084e\n",
            "To: /content/data.csv\n",
            "100%|██████████| 943M/943M [00:21<00:00, 43.8MB/s]\n"
          ]
        },
        {
          "output_type": "stream",
          "name": "stdout",
          "text": [
            "(20180, 8100)\n",
            "(20180,)\n"
          ]
        }
      ],
      "source": [
        "file_id = \"1EFQlS9C4YGT5CNjD_NX_Q-HaiyLH4sjE\"\n",
        "\n",
        "# Construct the direct download URL\n",
        "download_url = f\"https://drive.google.com/uc?id={file_id}\"\n",
        "\n",
        "# Download the file\n",
        "output = \"data.csv\"  # Change filename as needed\n",
        "gdown.download(download_url, output, quiet=False)\n",
        "\n",
        "# Read the CSV file\n",
        "data = pd.read_csv(output)\n",
        "data = data.dropna()\n",
        "\n",
        "X = data.drop(columns = ['label'])\n",
        "y = data['label']\n",
        "\n",
        "print(X.shape)\n",
        "print(y.shape)\n"
      ]
    },
    {
      "cell_type": "code",
      "execution_count": null,
      "metadata": {
        "id": "f3iAE1DK8jik"
      },
      "outputs": [],
      "source": [
        "# Mean\n",
        "X_mean = X.mean()\n",
        "\n",
        "# Standard deviation\n",
        "X_std = X.std()\n",
        "\n",
        "# Standardization\n",
        "Z = (X - X_mean) / X_std.replace(0,1e-10)"
      ]
    },
    {
      "cell_type": "code",
      "execution_count": null,
      "metadata": {
        "colab": {
          "base_uri": "https://localhost:8080/"
        },
        "collapsed": true,
        "id": "MumWI0Z68m6n",
        "outputId": "d259a89c-52aa-45ce-fb7d-ca5c4b9921df"
      },
      "outputs": [
        {
          "output_type": "stream",
          "name": "stdout",
          "text": [
            "             PC1        PC2        PC3        PC4        PC5        PC6  \\\n",
            "0     -13.473498  14.170485  -8.592970  -0.276518  -4.310717 -12.837164   \n",
            "1      -7.392499  21.470417 -16.521421  -9.054983  10.826058   2.505740   \n",
            "2     -11.364221   4.819343  -5.701317  -9.767067  -3.730633 -13.074421   \n",
            "3      -9.464440   4.396213 -14.905355  -3.827589  -1.930125  -7.333181   \n",
            "4      -3.514694   4.805839 -10.267748   6.538962  -6.552483   2.683379   \n",
            "...          ...        ...        ...        ...        ...        ...   \n",
            "20175  -3.464935   7.745460 -29.708590 -10.414632  14.356316   2.594418   \n",
            "20176  -6.965887   8.512735  -5.489306   1.021767   0.134591  -6.490052   \n",
            "20177 -10.654562  -4.086706  -9.890634  -5.559350   9.865370   8.734730   \n",
            "20178   6.125788  -1.236722 -12.704954 -12.068882   0.344311  -0.449123   \n",
            "20179  -3.484752  13.398968 -10.478203  -7.359174   4.313195  19.720054   \n",
            "\n",
            "             PC7       PC8        PC9      PC10  ...       PC41      PC42  \\\n",
            "0       0.117520 -2.761824   1.108649 -0.904879  ...   4.092410  6.443888   \n",
            "1       9.917799  6.224253  10.179854  1.485773  ...  10.574170  3.202496   \n",
            "2      -4.602587 -2.721225   0.244988  4.568012  ...  -1.074667 -0.563594   \n",
            "3       1.197787 -2.875160  -3.847317  2.166295  ...  -1.508211  6.949080   \n",
            "4      -3.320741 -6.301098  -4.508689  6.064244  ...   5.116221  0.677970   \n",
            "...          ...       ...        ...       ...  ...        ...       ...   \n",
            "20175  -5.300982  7.073293  -3.784180 -4.543282  ...  -8.010982  1.927295   \n",
            "20176 -11.259570  5.768719  -6.177397 -8.466938  ...   1.544007  1.406543   \n",
            "20177   0.327961  1.587738   5.018034  0.547152  ...   3.478616 -2.845909   \n",
            "20178  -0.514638  1.223566   0.729147  7.297397  ...  -1.275618 -7.127936   \n",
            "20179  -2.924336  2.035335  -7.849973  8.279953  ...  -6.084137  0.392098   \n",
            "\n",
            "            PC43      PC44       PC45      PC46      PC47      PC48      PC49  \\\n",
            "0       2.033197 -5.146348   4.589903  3.882215  1.244046  3.206604 -1.005893   \n",
            "1      -5.723848 -1.355812  11.558457  2.429458  2.644768  0.237301  1.493459   \n",
            "2      -8.738356  1.599188  -5.218222  1.388895  0.170929 -6.498805  3.083372   \n",
            "3       1.565551 -6.012308   0.271723 -1.036586  5.631869  0.936317  3.278518   \n",
            "4      -4.204182 -1.335126   6.676214 -5.794944  4.573716  2.070401  3.495214   \n",
            "...          ...       ...        ...       ...       ...       ...       ...   \n",
            "20175   8.786582 -8.315361  -8.806997  1.633115  0.212542  3.905510  2.562113   \n",
            "20176  -2.906101 -4.409457  -6.832928 -1.003008 -5.779413 -0.310393 -0.987425   \n",
            "20177  -3.235012 -4.520301   3.821473 -2.472285  4.524412 -0.425415  3.990212   \n",
            "20178   2.200899 -8.963247  -3.840246 -3.552628 -2.454947 -2.372977  4.438409   \n",
            "20179  10.366710 -5.377342  -0.190773 -0.383475  6.008272 -5.529882  7.598616   \n",
            "\n",
            "           PC50  \n",
            "0     -1.110376  \n",
            "1     -3.542670  \n",
            "2      0.402781  \n",
            "3      2.033335  \n",
            "4      0.575318  \n",
            "...         ...  \n",
            "20175 -0.944550  \n",
            "20176 -0.489941  \n",
            "20177  0.960658  \n",
            "20178  1.640106  \n",
            "20179 -4.003751  \n",
            "\n",
            "[20180 rows x 50 columns]\n"
          ]
        }
      ],
      "source": [
        "from sklearn.decomposition import PCA\n",
        "\n",
        "# Taking top 300 dimensions\n",
        "pca = PCA(n_components=50)\n",
        "pca.fit(Z)\n",
        "x_pca = pca.transform(Z)\n",
        "\n",
        "# Create the dataframe\n",
        "df = pd.DataFrame(x_pca,\n",
        "                       columns=['PC{}'.\n",
        "                       format(i+1)\n",
        "                        for i in range(50)])\n",
        "print(df)"
      ]
    },
    {
      "cell_type": "code",
      "execution_count": null,
      "metadata": {
        "id": "VOV0YIfYQjBl"
      },
      "outputs": [],
      "source": [
        "# df['label'] = y"
      ]
    },
    {
      "cell_type": "code",
      "execution_count": null,
      "metadata": {
        "id": "4oONxf56RuFg"
      },
      "outputs": [],
      "source": [
        "from sklearn.model_selection import train_test_split\n",
        "\n",
        "X_train, X_test, y_train, y_test = train_test_split(df, y, test_size=0.40, random_state=42)# this will split the data into 87% train and 13% test data\n"
      ]
    },
    {
      "cell_type": "code",
      "execution_count": null,
      "metadata": {
        "id": "7ah_vrZE4DG9"
      },
      "outputs": [],
      "source": [
        "X_train = np.array(X_train, dtype=np.float64)  # Ensure all features are numeric\n"
      ]
    },
    {
      "cell_type": "code",
      "execution_count": 14,
      "metadata": {
        "id": "vRNS317pUf_g",
        "collapsed": true
      },
      "outputs": [],
      "source": [
        "import numpy as np\n",
        "import pandas as pd\n",
        "from scipy import stats\n",
        "from tqdm import tqdm\n",
        "\n",
        "# Ensure data is of correct type\n",
        "X_train = X_train.astype(np.float64)\n",
        "X_test = X_test.astype(np.float64)\n",
        "y_train = y_train.astype(np.int64)\n",
        "y_test = y_test.astype(np.int64)\n",
        "\n",
        "\n",
        "\n",
        "\n",
        "\n"
      ]
    },
    {
      "cell_type": "code",
      "source": [
        "X_train = X_train.astype(np.float64)\n",
        "X_test = X_test.astype(np.float64)\n",
        "y_train = y_train.astype(np.int64)\n",
        "y_test = y_test.astype(np.int64)\n",
        "def calculate_dist(x1, x2):\n",
        "    \"\"\"Calculate the Euclidean distance between two points.\"\"\"\n",
        "    return np.sqrt(np.sum((x1 - x2) ** 2))\n",
        "\n",
        "def update_centroid(image_indexes, data_set):\n",
        "    \"\"\"Update centroid by averaging the points in a cluster.\"\"\"\n",
        "    if len(image_indexes) == 0:\n",
        "        return np.zeros(data_set[0][0].shape, dtype=np.float64)  # Avoid division by zero\n",
        "\n",
        "    centroid = np.zeros_like(data_set[0][0], dtype=np.float64)  # Adjust dimension dynamically\n",
        "    for idx in image_indexes:\n",
        "        centroid += data_set[idx][0]  # Sum all feature vectors\n",
        "    centroid /= len(image_indexes)  # Get mean\n",
        "\n",
        "    return centroid\n"
      ],
      "metadata": {
        "id": "vD2GK5cMuhKV"
      },
      "execution_count": 15,
      "outputs": []
    },
    {
      "cell_type": "code",
      "source": [
        "# Number of clusters\n",
        "K = 250\n",
        "clusters = []\n",
        "\n",
        "# Define K random points as initial cluster centroids\n",
        "feature_dim = X_train.shape[1]  # Get the actual feature dimension\n",
        "for i in range(K):\n",
        "    point = np.random.uniform(-15, 15, size=(feature_dim,)).astype(np.float64)\n",
        "    clusters.append([point, []])\n",
        "\n",
        "# Prepare dataset as (features, label) tuples\n",
        "data_set = [[feature.astype(np.float64), int(label)] for feature, label in zip(X_train, y_train)]\n",
        "\n",
        "# K-means clustering (200 iterations)\n",
        "for iteration in tqdm(range(200), desc=\"Clustering Iterations\"):\n",
        "    # Clear previous cluster assignments\n",
        "    for cluster in clusters:\n",
        "        cluster[1] = []\n",
        "\n",
        "    # Assign each data point to the nearest centroid\n",
        "    for i, (features, _) in enumerate(data_set):\n",
        "        distances = [calculate_dist(cluster[0], features) for cluster in clusters]\n",
        "        cluster_index = np.argmin(distances)  # Index of closest cluster\n",
        "        clusters[cluster_index][1].append(i)  # Assign data point index\n",
        "\n",
        "    # Update centroids based on current cluster assignments\n",
        "    for i in range(K):\n",
        "        if len(clusters[i][1]) > 0:  # Only update if cluster is not empty\n",
        "            clusters[i][0] = update_centroid(clusters[i][1], data_set)\n",
        "\n",
        "# Assign labels to clusters\n",
        "cluster_labels = []\n",
        "for i in range(K):\n",
        "    labels_in_cluster = [data_set[idx][1] for idx in clusters[i][1]]\n",
        "    if labels_in_cluster:  # Ensure cluster is not empty\n",
        "        mode_label = stats.mode(labels_in_cluster, keepdims=True).mode[0]  # Extract mode correctly\n",
        "    else:\n",
        "        mode_label = -1  # Default label if cluster is empty\n",
        "    cluster_labels.append(mode_label)"
      ],
      "metadata": {
        "colab": {
          "base_uri": "https://localhost:8080/"
        },
        "id": "F_WCiPOYuS-i",
        "outputId": "838907f2-5e0e-4e18-8fd6-e3dd3e1edd87"
      },
      "execution_count": 16,
      "outputs": [
        {
          "output_type": "stream",
          "name": "stderr",
          "text": [
            "Clustering Iterations: 100%|██████████| 200/200 [1:17:34<00:00, 23.27s/it]\n"
          ]
        }
      ]
    },
    {
      "cell_type": "code",
      "source": [
        "# Testing phase\n",
        "from sklearn.metrics import accuracy_score\n",
        "\n",
        "predictions = [] # Create a list to store predictions\n",
        "for index in tqdm(range(X_test.shape[0]), total=len(y_test), desc=\"Testing Phase\"): # Iterate over rows\n",
        "    features = X_test.iloc[index].astype(np.float64)  # Ensure correct type by using iloc to get row data\n",
        "    distances = [calculate_dist(cluster[0], features) for cluster in clusters]\n",
        "    cluster_index = np.argmin(distances)  # Find nearest cluster\n",
        "    predicted_label = cluster_labels[cluster_index]  # Assign label based on cluster\n",
        "    predictions.append(predicted_label)\n",
        "\n",
        "# Compute accuracy\n",
        "accuracy = accuracy_score(y_test, predictions) # Pass predictions to accuracy_score\n",
        "print(f'Validation Accuracy: {accuracy * 100:.2f}%')"
      ],
      "metadata": {
        "colab": {
          "base_uri": "https://localhost:8080/"
        },
        "id": "JKf9oA_Juz9J",
        "outputId": "b1e9ad8b-639f-426f-c979-bf50d5cd6309"
      },
      "execution_count": 20,
      "outputs": [
        {
          "output_type": "stream",
          "name": "stderr",
          "text": [
            "Testing Phase: 100%|██████████| 8072/8072 [06:35<00:00, 20.39it/s]"
          ]
        },
        {
          "output_type": "stream",
          "name": "stdout",
          "text": [
            "Validation Accuracy: 11.74%\n"
          ]
        },
        {
          "output_type": "stream",
          "name": "stderr",
          "text": [
            "\n"
          ]
        }
      ]
    },
    {
      "cell_type": "code",
      "source": [
        "print(correct_predictions)"
      ],
      "metadata": {
        "colab": {
          "base_uri": "https://localhost:8080/"
        },
        "id": "h5dL9rMsspcj",
        "outputId": "576da600-0948-48a2-f833-874032e114bf"
      },
      "execution_count": 12,
      "outputs": [
        {
          "output_type": "stream",
          "name": "stdout",
          "text": [
            "0\n"
          ]
        }
      ]
    },
    {
      "cell_type": "markdown",
      "metadata": {
        "id": "IL8l3qf4Uy03"
      },
      "source": [
        "DBSCAN\n"
      ]
    }
  ],
  "metadata": {
    "colab": {
      "provenance": [],
      "authorship_tag": "ABX9TyM50zVT7zXywi0c0dbym7yL",
      "include_colab_link": true
    },
    "kernelspec": {
      "display_name": "Python 3",
      "name": "python3"
    },
    "language_info": {
      "name": "python"
    }
  },
  "nbformat": 4,
  "nbformat_minor": 0
}