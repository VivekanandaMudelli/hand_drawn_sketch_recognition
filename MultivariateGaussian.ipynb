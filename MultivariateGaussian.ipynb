{
  "nbformat": 4,
  "nbformat_minor": 0,
  "metadata": {
    "colab": {
      "provenance": [],
      "authorship_tag": "ABX9TyMtjfmOQYRuRKKy/v+xWyKE",
      "include_colab_link": true
    },
    "kernelspec": {
      "name": "python3",
      "display_name": "Python 3"
    },
    "language_info": {
      "name": "python"
    }
  },
  "cells": [
    {
      "cell_type": "markdown",
      "metadata": {
        "id": "view-in-github",
        "colab_type": "text"
      },
      "source": [
        "<a href=\"https://colab.research.google.com/github/VivekanandaMudelli/hand_drawn_sketch_recognition/blob/main/MultivariateGaussian.ipynb\" target=\"_parent\"><img src=\"https://colab.research.google.com/assets/colab-badge.svg\" alt=\"Open In Colab\"/></a>"
      ]
    },
    {
      "cell_type": "code",
      "execution_count": 1,
      "metadata": {
        "colab": {
          "base_uri": "https://localhost:8080/"
        },
        "id": "oB_stQBjKygC",
        "outputId": "6703bd44-0a09-4ebf-abc3-a49008b13b1e"
      },
      "outputs": [
        {
          "output_type": "stream",
          "name": "stdout",
          "text": [
            "Mounted at /content/drive\n"
          ]
        }
      ],
      "source": [
        "from google.colab import drive\n",
        "drive.mount('/content/drive')"
      ]
    },
    {
      "cell_type": "markdown",
      "source": [
        "we are using  scipy.stats  to import multivariate_normal to calculate the likelihood probabilities (which is gaussian distribution have mean : mean_l,covariances : cov_l, for each  label)"
      ],
      "metadata": {
        "id": "roZOJPSRv6qD"
      }
    },
    {
      "cell_type": "code",
      "source": [
        "import numpy as np\n",
        "import pandas as pd\n",
        "from sklearn.model_selection import train_test_split\n",
        "from sklearn.metrics import accuracy_score, classification_report, confusion_matrix\n",
        "from scipy.stats import multivariate_normal # Importing multivariate_normal0"
      ],
      "metadata": {
        "id": "hQQMFOSNK52c"
      },
      "execution_count": 3,
      "outputs": []
    },
    {
      "source": [
        "class MultivariateGaussianClassifier:\n",
        "    def __init__(self):\n",
        "        self.priors_prob = {}  # creating a  empty dictionary for storing the probabilities of labels.\n",
        "        self.means = {}        # creating a  empty dictionary for storing the mean of the same type labels.\n",
        "        self.covariances = {}  #  creating a  empty dictionary for storing the covariances for same type of labels.\n",
        "        #self.log_dets = {}  # Store log determinants of covariance matrices\n",
        "\n",
        "    def fit(self, X, y):\n",
        "        n_samp,n_fea = X.shape  # variables for storing  length samples and features\n",
        "        self.labels = np.unique(y)  # storing different labels\n",
        "        n_labels = len(self.labels) # total no.of different type of labels\n",
        "\n",
        "        for label in self.labels:\n",
        "            X_l = X[y == label]\n",
        "            mean_l = np.mean(X_l, axis=0)\n",
        "            #(np.eye(X_l.shape[1]) * 1e-6) it adds a small constant to the diagonal of the covariance matrix to\n",
        "            #prevent it from being singular (non-invertible).\n",
        "            cov_l = np.cov(X_l.T) + np.eye(X_l.shape[1]) * 1e-6  # Regularization :\n",
        "\n",
        "            # Precompute log determinant\n",
        "            #log_det_l = np.log(np.linalg.det(cov_l))\n",
        "\n",
        "            self.means[label] = mean_l #storing the mean of the each labels.\n",
        "            self.covariances[label] = cov_l #storing the covariances for each labels\n",
        "            #self.log_dets[label] = log_det_l\n",
        "            self.priors_prob[label] = X_l.shape[0] / n_samp # Fixed: probabilities (prior) for each label\n",
        "\n",
        "    def predict(self, X):\n",
        "\n",
        "        #calculating log of likelihood probabilities by using multivariate_normal (taking total mean and covariances matrix and )\n",
        "        #using pdf(gaussian distribution ) returning all probabilities for each labels\n",
        "        log_likelihood = [multivariate_normal.logpdf(X, mean=self.means[c], cov=self.covariances[c]) for c in self.labels]\n",
        "        log_post_probs = [self.priors_prob[l] + log_likelihood[l]  for l in self.labels]  # Discriminant function\n",
        "\n",
        "        return self.labels[np.argmax(log_post_probs, axis=0)]  # Vectorized label selection # Fixed: Indentation and axis is changed to 0"
      ],
      "cell_type": "code",
      "metadata": {
        "id": "QrgSfBiLcbLt"
      },
      "execution_count": 4,
      "outputs": []
    },
    {
      "cell_type": "code",
      "source": [
        "df = pd.read_csv('/content/drive/MyDrive/prml/pca_hog_data.csv')\n",
        "X = df.drop('label', axis=1).values\n",
        "y = df['label'].values"
      ],
      "metadata": {
        "id": "NsIHYtmxvELt"
      },
      "execution_count": 7,
      "outputs": []
    },
    {
      "cell_type": "code",
      "source": [
        "# Split data\n",
        "X_train, X_test, y_train, y_test = train_test_split(X, y, test_size=0.1, random_state=42)\n",
        "\n",
        "# Train classifier\n",
        "classifier = MultivariateGaussianClassifier()\n",
        "classifier.fit(X_train, y_train)\n",
        "\n",
        "# Predict and evaluate\n",
        "y_pred = classifier.predict(X_test)\n",
        "print(f\"Accuracy: {accuracy_score(y_test, y_pred) * 100:.2f}%\")"
      ],
      "metadata": {
        "colab": {
          "base_uri": "https://localhost:8080/"
        },
        "id": "vaJ2txTxUd-e",
        "outputId": "ca82ddc8-2418-4c37-c106-687b138a622e"
      },
      "execution_count": 8,
      "outputs": [
        {
          "output_type": "stream",
          "name": "stdout",
          "text": [
            "Accuracy: 38.31%\n"
          ]
        }
      ]
    },
    {
      "cell_type": "code",
      "source": [
        "# Split data\n",
        "X_train, X_test, y_train, y_test = train_test_split(X, y, test_size=0.2, random_state=42)\n",
        "\n",
        "# Train classifier\n",
        "classifier = MultivariateGaussianClassifier()\n",
        "classifier.fit(X_train, y_train)\n",
        "\n",
        "# Predict and evaluate\n",
        "y_pred = classifier.predict(X_test)\n",
        "print(f\"Accuracy: {accuracy_score(y_test, y_pred) * 100:.2f}%\")"
      ],
      "metadata": {
        "colab": {
          "base_uri": "https://localhost:8080/"
        },
        "id": "ik07DPaHgS5_",
        "outputId": "f42190c3-b892-4100-b68b-91a6aca12533"
      },
      "execution_count": 9,
      "outputs": [
        {
          "output_type": "stream",
          "name": "stdout",
          "text": [
            "Accuracy: 37.19%\n"
          ]
        }
      ]
    }
  ]
}