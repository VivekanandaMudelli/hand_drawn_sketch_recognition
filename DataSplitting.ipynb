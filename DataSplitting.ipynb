{
  "nbformat": 4,
  "nbformat_minor": 0,
  "metadata": {
    "colab": {
      "provenance": [],
      "include_colab_link": true
    },
    "kernelspec": {
      "name": "python3",
      "display_name": "Python 3"
    },
    "language_info": {
      "name": "python"
    }
  },
  "cells": [
    {
      "cell_type": "markdown",
      "metadata": {
        "id": "view-in-github",
        "colab_type": "text"
      },
      "source": [
        "<a href=\"https://colab.research.google.com/github/VivekanandaMudelli/hand_drawn_sketch_recognition/blob/main/DataSplitting.ipynb\" target=\"_parent\"><img src=\"https://colab.research.google.com/assets/colab-badge.svg\" alt=\"Open In Colab\"/></a>"
      ]
    },
    {
      "cell_type": "code",
      "execution_count": null,
      "metadata": {
        "id": "zGFHECfJ4Qpj"
      },
      "outputs": [],
      "source": [
        "import os\n",
        "\n",
        "# Paths according to dataset location\n",
        "source_dir = '/content/drive/MyDrive/PRML Project/Data/sketches_png/png'\n",
        "dest_dir = '/content/drive/MyDrive/PRML Project/Data/splitteddata'\n",
        "train_ratio = 0.8"
      ]
    },
    {
      "cell_type": "code",
      "source": [
        "import shutil\n",
        "import random\n",
        "\n",
        "for class_name in os.listdir(source_dir):\n",
        "    class_path = os.path.join(source_dir, class_name)\n",
        "    if not os.path.isdir(class_path):\n",
        "        continue\n",
        "\n",
        "    images = os.listdir(class_path)\n",
        "    random.shuffle(images)\n",
        "\n",
        "    split_idx = int(len(images) * train_ratio)\n",
        "    train_images = images[:split_idx]\n",
        "    test_images = images[split_idx:]\n",
        "\n",
        "    for split in ['train', 'test']:\n",
        "        split_class_path = os.path.join(dest_dir, split, class_name)\n",
        "        os.makedirs(split_class_path, exist_ok=True)\n",
        "\n",
        "    for img in train_images:\n",
        "        shutil.copy(os.path.join(class_path, img),\n",
        "                    os.path.join(dest_dir, 'train', class_name, img))\n",
        "    for img in test_images:\n",
        "        shutil.copy(os.path.join(class_path, img),\n",
        "                    os.path.join(dest_dir, 'test', class_name, img))\n",
        "\n",
        "print(\"Dataset successfully split and saved in your Google Drive!\")"
      ],
      "metadata": {
        "colab": {
          "base_uri": "https://localhost:8080/"
        },
        "id": "RMWzywDB43QT",
        "outputId": "1f45dfad-5e7a-4685-e62f-bacdc35c5302"
      },
      "execution_count": null,
      "outputs": [
        {
          "output_type": "stream",
          "name": "stdout",
          "text": [
            "Dataset successfully split and saved in your Google Drive!\n"
          ]
        }
      ]
    }
  ]
}