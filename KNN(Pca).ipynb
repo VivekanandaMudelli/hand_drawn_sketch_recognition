{
  "nbformat": 4,
  "nbformat_minor": 0,
  "metadata": {
    "colab": {
      "provenance": [],
      "authorship_tag": "ABX9TyNSYJKD7ivO4j+ViZ+CQ9zw",
      "include_colab_link": true
    },
    "kernelspec": {
      "name": "python3",
      "display_name": "Python 3"
    },
    "language_info": {
      "name": "python"
    }
  },
  "cells": [
    {
      "cell_type": "markdown",
      "metadata": {
        "id": "view-in-github",
        "colab_type": "text"
      },
      "source": [
        "<a href=\"https://colab.research.google.com/github/VivekanandaMudelli/hand_drawn_sketch_recognition/blob/main/KNN(Pca).ipynb\" target=\"_parent\"><img src=\"https://colab.research.google.com/assets/colab-badge.svg\" alt=\"Open In Colab\"/></a>"
      ]
    },
    {
      "cell_type": "code",
      "source": [
        "import gdown\n",
        "import pandas as pd\n",
        "import matplotlib.pyplot as plt\n",
        "import numpy as np"
      ],
      "metadata": {
        "id": "_3AZNI10_vV4"
      },
      "execution_count": 1,
      "outputs": []
    },
    {
      "cell_type": "code",
      "source": [
        "file_id = \"1EFQlS9C4YGT5CNjD_NX_Q-HaiyLH4sjE\"\n",
        "\n",
        "# Construct the direct download URL\n",
        "download_url = f\"https://drive.google.com/uc?id={file_id}\"\n",
        "\n",
        "# Download the file\n",
        "output = \"data.csv\"  # Change filename as needed\n",
        "gdown.download(download_url, output, quiet=False)\n",
        "\n",
        "# Read the CSV file\n",
        "data = pd.read_csv(output)\n",
        "data = data.dropna()\n",
        "\n",
        "X = data.drop(columns = ['label'])\n",
        "y = data['label']\n",
        "\n",
        "print(X.shape)\n",
        "print(y.shape)"
      ],
      "metadata": {
        "colab": {
          "base_uri": "https://localhost:8080/"
        },
        "id": "5lQjtSqFd6ZF",
        "outputId": "358f6bbc-cf30-483a-8721-ea83cb94728e"
      },
      "execution_count": 2,
      "outputs": [
        {
          "output_type": "stream",
          "name": "stderr",
          "text": [
            "Downloading...\n",
            "From (original): https://drive.google.com/uc?id=1EFQlS9C4YGT5CNjD_NX_Q-HaiyLH4sjE\n",
            "From (redirected): https://drive.google.com/uc?id=1EFQlS9C4YGT5CNjD_NX_Q-HaiyLH4sjE&confirm=t&uuid=63411329-fcfc-4a35-ade3-e8db8326e98b\n",
            "To: /content/data.csv\n",
            "100%|██████████| 943M/943M [00:14<00:00, 63.3MB/s]\n"
          ]
        },
        {
          "output_type": "stream",
          "name": "stdout",
          "text": [
            "(20180, 8100)\n",
            "(20180,)\n"
          ]
        }
      ]
    },
    {
      "cell_type": "code",
      "source": [
        "# Mean\n",
        "X_mean = X.mean()\n",
        "\n",
        "# Standard deviation\n",
        "X_std = X.std()\n",
        "\n",
        "# Standardization\n",
        "Z = (X - X_mean) / X_std.replace(0,1e-10)"
      ],
      "metadata": {
        "id": "cMsquoDBeClN"
      },
      "execution_count": 3,
      "outputs": []
    },
    {
      "cell_type": "code",
      "source": [
        "# Importing PCA\n",
        "from sklearn.decomposition import PCA\n",
        "\n",
        "# Taking top 300 dimensions\n",
        "pca = PCA(n_components=300)\n",
        "pca.fit(Z)\n",
        "x_pca = pca.transform(Z)\n",
        "\n",
        "# Create the dataframe\n",
        "df = pd.DataFrame(x_pca,\n",
        "                       columns=['PC{}'.\n",
        "                       format(i+1)\n",
        "                        for i in range(300)])\n",
        "print(df)"
      ],
      "metadata": {
        "colab": {
          "base_uri": "https://localhost:8080/"
        },
        "id": "8HhVxH8deGNd",
        "outputId": "29787dd3-17c2-4a9a-bc9e-52b9c0f49900"
      },
      "execution_count": 4,
      "outputs": [
        {
          "output_type": "stream",
          "name": "stdout",
          "text": [
            "             PC1        PC2        PC3        PC4        PC5        PC6  \\\n",
            "0     -13.473498  14.170485  -8.592970  -0.276517  -4.310716 -12.837159   \n",
            "1      -7.392499  21.470417 -16.521424  -9.054980  10.826061   2.505688   \n",
            "2     -11.364221   4.819343  -5.701316  -9.767068  -3.730639 -13.074415   \n",
            "3      -9.464440   4.396213 -14.905356  -3.827590  -1.930120  -7.333155   \n",
            "4      -3.514694   4.805839 -10.267748   6.538963  -6.552484   2.683344   \n",
            "...          ...        ...        ...        ...        ...        ...   \n",
            "20175  -3.464935   7.745460 -29.708590 -10.414634  14.356322   2.594481   \n",
            "20176  -6.965887   8.512735  -5.489306   1.021765   0.134600  -6.489955   \n",
            "20177 -10.654562  -4.086706  -9.890633  -5.559354   9.865369   8.734751   \n",
            "20178   6.125788  -1.236722 -12.704955 -12.068881   0.344318  -0.449119   \n",
            "20179  -3.484752  13.398968 -10.478203  -7.359177   4.313188  19.720090   \n",
            "\n",
            "             PC7       PC8        PC9      PC10  ...     PC291     PC292  \\\n",
            "0       0.117438 -2.761707   1.108204 -0.902901  ... -2.809885 -1.881676   \n",
            "1       9.917848  6.224563  10.180446  1.488196  ...  0.084755 -1.713020   \n",
            "2      -4.602594 -2.721346   0.244863  4.566435  ...  0.038723  1.462298   \n",
            "3       1.197841 -2.874040  -3.848949  2.169882  ... -0.688233  0.531922   \n",
            "4      -3.320808 -6.301174  -4.507780  6.065617  ... -1.217774  3.115073   \n",
            "...          ...       ...        ...       ...  ...       ...       ...   \n",
            "20175  -5.301077  7.073684  -3.786311 -4.542983  ...  2.240499  0.657536   \n",
            "20176 -11.259448  5.768081  -6.178600 -8.472585  ...  1.442416  1.767180   \n",
            "20177   0.328012  1.587438   5.016704  0.546804  ...  0.794421  3.382617   \n",
            "20178  -0.514577  1.222892   0.729589  7.296035  ... -2.182990 -2.890704   \n",
            "20179  -2.924225  2.034997  -7.851021  8.275631  ...  0.268030  0.176784   \n",
            "\n",
            "          PC293     PC294     PC295     PC296     PC297     PC298     PC299  \\\n",
            "0     -0.521408  2.024840 -5.235933 -1.409406 -2.821881  4.004414  0.287072   \n",
            "1     -0.181988 -3.908319  0.857391 -4.163258 -0.128735 -2.627779  1.848013   \n",
            "2      1.453889 -0.006530  2.172425 -1.432813  2.012769  0.427529 -2.386097   \n",
            "3      0.342506  1.214076  0.151041 -1.993477 -1.521054  0.428124 -0.064037   \n",
            "4     -0.070829  0.062713 -1.519518  1.736465  0.305655 -2.009331 -1.016825   \n",
            "...         ...       ...       ...       ...       ...       ...       ...   \n",
            "20175  1.375050  1.752307 -1.756256  1.277818  1.414503  1.153857 -1.160767   \n",
            "20176 -0.468799 -2.778696 -0.652973 -0.742131  1.063637  0.952507 -0.469473   \n",
            "20177 -0.424013  0.010827 -0.889525 -1.190442 -2.907309 -0.669321  0.840707   \n",
            "20178  3.112685 -2.366254  0.236335 -0.377122  2.551814 -2.280175 -3.648936   \n",
            "20179  0.111433 -4.041524  3.476550  2.316876 -0.525313 -0.434984 -0.599461   \n",
            "\n",
            "          PC300  \n",
            "0      1.041442  \n",
            "1     -1.147127  \n",
            "2     -0.593056  \n",
            "3     -0.357195  \n",
            "4      2.028624  \n",
            "...         ...  \n",
            "20175  3.516812  \n",
            "20176 -1.227483  \n",
            "20177  1.049582  \n",
            "20178 -2.541422  \n",
            "20179  0.361222  \n",
            "\n",
            "[20180 rows x 300 columns]\n"
          ]
        }
      ]
    },
    {
      "cell_type": "code",
      "source": [
        "df['label'] = y"
      ],
      "metadata": {
        "id": "LUBXb-sgf9hL"
      },
      "execution_count": 10,
      "outputs": []
    },
    {
      "cell_type": "code",
      "source": [
        "def distance(x,y):\n",
        "  return np.linalg.norm(x-y)"
      ],
      "metadata": {
        "id": "ngNG7a3T_96m"
      },
      "execution_count": 11,
      "outputs": []
    },
    {
      "cell_type": "code",
      "source": [
        "def k_nearest_neighbors(p, points, k):\n",
        "    dist = [distance(p,p1) for p1 in points]\n",
        "    neighborId = np.argsort(dist)\n",
        "    neighbor = [points[i] for i in neighborId[:k]]\n",
        "\n",
        "    Knn = [neighbor,neighborId[:k]]\n",
        "    return Knn"
      ],
      "metadata": {
        "id": "dtxNbN17AAdj"
      },
      "execution_count": 12,
      "outputs": []
    },
    {
      "cell_type": "code",
      "source": [
        "import statistics as st\n",
        "\n",
        "def knn_predict(X_train, y_train, testPoint, k):\n",
        "  a,b = k_nearest_neighbors(testPoint,X_train,k)# a maps to the list of points and b maps to the list of indices\n",
        "  k_labels = [y_train[i] for i in b] #list of labels for the k nearest neighbors\n",
        "  return st.mode(k_labels)"
      ],
      "metadata": {
        "id": "WUOn_m1kN770"
      },
      "execution_count": 13,
      "outputs": []
    },
    {
      "cell_type": "code",
      "source": [
        "# import pandas as pd\n",
        "# df = pd.read_csv('/content/pca_data.csv')\n",
        "# df.head()"
      ],
      "metadata": {
        "id": "pPIadm-eA5QD"
      },
      "execution_count": 14,
      "outputs": []
    },
    {
      "cell_type": "code",
      "source": [
        "from sklearn.model_selection import train_test_split\n",
        "from sklearn.metrics import accuracy_score\n",
        "from tqdm import tqdm\n",
        "\n",
        "X_new = df.drop('label', axis=1)\n",
        "y_new = df['label']"
      ],
      "metadata": {
        "id": "BtrCzFc7NaqG"
      },
      "execution_count": 15,
      "outputs": []
    },
    {
      "cell_type": "code",
      "source": [
        "X_train, X_val, y_train, y_val = train_test_split(X_new, y_new, train_size=0.7, random_state=42)\n",
        "X_train=X_train.values\n",
        "y_train=y_train.values\n",
        "X_val=X_val.values\n",
        "y_val=y_val.values\n",
        "k=5\n",
        "predictions=[]"
      ],
      "metadata": {
        "id": "re1O-0N7NrK7"
      },
      "execution_count": 16,
      "outputs": []
    },
    {
      "cell_type": "code",
      "source": [
        "for testPoint in tqdm(X_val, desc=\"Predicting\", unit=\"sample\"):\n",
        "    predictions.append(knn_predict(X_train, y_train, testPoint, k))"
      ],
      "metadata": {
        "colab": {
          "base_uri": "https://localhost:8080/"
        },
        "id": "b7w75bnYNvps",
        "outputId": "cfea5c55-75f9-4a7f-eb60-e789cf85db5f"
      },
      "execution_count": 17,
      "outputs": [
        {
          "output_type": "stream",
          "name": "stderr",
          "text": [
            "Predicting: 100%|██████████| 6054/6054 [07:47<00:00, 12.94sample/s]\n"
          ]
        }
      ]
    },
    {
      "cell_type": "code",
      "source": [
        "accuracy = accuracy_score(y_val, predictions)\n",
        "print(f'Validation Accuracy: {accuracy * 100:.2f}%')"
      ],
      "metadata": {
        "colab": {
          "base_uri": "https://localhost:8080/"
        },
        "id": "mrgHsVBHNzCE",
        "outputId": "7bb6390f-0dd5-4d19-96e2-35f79009f0fe"
      },
      "execution_count": 18,
      "outputs": [
        {
          "output_type": "stream",
          "name": "stdout",
          "text": [
            "Validation Accuracy: 22.53%\n"
          ]
        }
      ]
    }
  ]
}