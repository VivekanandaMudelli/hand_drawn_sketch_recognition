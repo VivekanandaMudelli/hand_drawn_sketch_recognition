{
  "nbformat": 4,
  "nbformat_minor": 0,
  "metadata": {
    "colab": {
      "provenance": [],
      "include_colab_link": true
    },
    "kernelspec": {
      "name": "python3",
      "display_name": "Python 3"
    },
    "language_info": {
      "name": "python"
    }
  },
  "cells": [
    {
      "cell_type": "markdown",
      "metadata": {
        "id": "view-in-github",
        "colab_type": "text"
      },
      "source": [
        "<a href=\"https://colab.research.google.com/github/VivekanandaMudelli/hand_drawn_sketch_recognition/blob/main/KNN(Pca).ipynb\" target=\"_parent\"><img src=\"https://colab.research.google.com/assets/colab-badge.svg\" alt=\"Open In Colab\"/></a>"
      ]
    },
    {
      "cell_type": "code",
      "source": [
        "import gdown\n",
        "import pandas as pd\n",
        "import matplotlib.pyplot as plt\n",
        "import numpy as np"
      ],
      "metadata": {
        "id": "_3AZNI10_vV4"
      },
      "execution_count": 1,
      "outputs": []
    },
    {
      "cell_type": "code",
      "source": [
        "file_id = \"1EFQlS9C4YGT5CNjD_NX_Q-HaiyLH4sjE\"\n",
        "\n",
        "# Construct the direct download URL\n",
        "download_url = f\"https://drive.google.com/uc?id={file_id}\"\n",
        "\n",
        "# Download the file\n",
        "output = \"data.csv\"  # Change filename as needed\n",
        "gdown.download(download_url, output, quiet=False)\n",
        "\n",
        "# Read the CSV file\n",
        "data = pd.read_csv(output)\n",
        "data = data.dropna()\n",
        "\n",
        "X = data.drop(columns = ['label'])\n",
        "y = data['label']\n",
        "\n",
        "print(X.shape)\n",
        "print(y.shape)"
      ],
      "metadata": {
        "colab": {
          "base_uri": "https://localhost:8080/"
        },
        "id": "5lQjtSqFd6ZF",
        "outputId": "5b4e4197-d06d-4eb8-ecdd-da64ee579b4d"
      },
      "execution_count": 2,
      "outputs": [
        {
          "output_type": "stream",
          "name": "stderr",
          "text": [
            "Downloading...\n",
            "From (original): https://drive.google.com/uc?id=1EFQlS9C4YGT5CNjD_NX_Q-HaiyLH4sjE\n",
            "From (redirected): https://drive.google.com/uc?id=1EFQlS9C4YGT5CNjD_NX_Q-HaiyLH4sjE&confirm=t&uuid=10e5a8f3-18fe-420c-a376-a4d0a0527e59\n",
            "To: /content/data.csv\n",
            "100%|██████████| 943M/943M [00:13<00:00, 68.3MB/s]\n"
          ]
        },
        {
          "output_type": "stream",
          "name": "stdout",
          "text": [
            "(20180, 8100)\n",
            "(20180,)\n"
          ]
        }
      ]
    },
    {
      "cell_type": "code",
      "source": [
        "# Mean\n",
        "X_mean = X.mean()\n",
        "\n",
        "# Standard deviation\n",
        "X_std = X.std()\n",
        "\n",
        "# Standardization\n",
        "Z = (X - X_mean) / X_std.replace(0,1e-10)"
      ],
      "metadata": {
        "id": "cMsquoDBeClN"
      },
      "execution_count": 3,
      "outputs": []
    },
    {
      "cell_type": "code",
      "source": [
        "# Importing PCA\n",
        "from sklearn.decomposition import PCA\n",
        "\n",
        "# Taking top 50 dimensions\n",
        "pca = PCA(n_components=50)\n",
        "pca.fit(Z)\n",
        "x_pca = pca.transform(Z)\n",
        "\n",
        "# Create the dataframe\n",
        "df = pd.DataFrame(x_pca,\n",
        "                       columns=['PC{}'.\n",
        "                       format(i+1)\n",
        "                        for i in range(50)])\n",
        "print(df)"
      ],
      "metadata": {
        "colab": {
          "base_uri": "https://localhost:8080/"
        },
        "id": "8HhVxH8deGNd",
        "outputId": "20e6ab59-8f93-47a3-8755-624947811c63"
      },
      "execution_count": 4,
      "outputs": [
        {
          "output_type": "stream",
          "name": "stdout",
          "text": [
            "             PC1        PC2        PC3        PC4        PC5        PC6  \\\n",
            "0     -13.473498  14.170485  -8.592970  -0.276516  -4.310718 -12.837158   \n",
            "1      -7.392499  21.470417 -16.521426  -9.054979  10.826065   2.505616   \n",
            "2     -11.364221   4.819343  -5.701317  -9.767070  -3.730637 -13.074397   \n",
            "3      -9.464440   4.396213 -14.905356  -3.827592  -1.930113  -7.333161   \n",
            "4      -3.514694   4.805839 -10.267749   6.538963  -6.552486   2.683322   \n",
            "...          ...        ...        ...        ...        ...        ...   \n",
            "20175  -3.464935   7.745460 -29.708590 -10.414636  14.356331   2.594452   \n",
            "20176  -6.965887   8.512735  -5.489306   1.021764   0.134603  -6.489945   \n",
            "20177 -10.654562  -4.086706  -9.890633  -5.559357   9.865364   8.734848   \n",
            "20178   6.125788  -1.236722 -12.704954 -12.068881   0.344311  -0.449105   \n",
            "20179  -3.484752  13.398968 -10.478203  -7.359180   4.313199  19.720034   \n",
            "\n",
            "             PC7       PC8        PC9      PC10  ...      PC41      PC42  \\\n",
            "0       0.117528 -2.761847   1.108649 -0.903117  ...  4.770906  2.048378   \n",
            "1       9.917865  6.225191  10.180435  1.490876  ...  6.873876  6.791365   \n",
            "2      -4.602634 -2.721021   0.245492  4.568366  ...  0.019267  6.071197   \n",
            "3       1.198097 -2.873584  -3.849228  2.170120  ... -2.574996  5.256295   \n",
            "4      -3.320745 -6.300955  -4.508060  6.065366  ...  3.527466  4.127775   \n",
            "...          ...       ...        ...       ...  ...       ...       ...   \n",
            "20175  -5.300889  7.073633  -3.787412 -4.543267  ... -4.786682 -4.556437   \n",
            "20176 -11.259561  5.767924  -6.178027 -8.473158  ... -2.192349  3.088470   \n",
            "20177   0.328038  1.587918   5.017038  0.542552  ...  3.107635  2.710170   \n",
            "20178  -0.514605  1.223015   0.729484  7.294289  ... -1.172897 -4.611412   \n",
            "20179  -2.924147  2.035709  -7.850071  8.279507  ... -9.714500 -5.915083   \n",
            "\n",
            "           PC43       PC44      PC45      PC46      PC47      PC48      PC49  \\\n",
            "0      4.235085  -2.649319  8.029324 -2.928139 -0.341526 -0.190719  0.767557   \n",
            "1      0.528305  -6.065456  5.778610  1.839654 -3.302817 -0.303977  2.804834   \n",
            "2     -5.986653   3.366061 -4.757716 -1.255650  5.804124 -0.927092 -2.505484   \n",
            "3      5.917933   1.282075  5.510219  4.127548  2.313641 -2.211695 -1.593831   \n",
            "4     -3.207351  -3.645375  2.953037  3.977291 -3.408398 -3.972123  2.452096   \n",
            "...         ...        ...       ...       ...       ...       ...       ...   \n",
            "20175  6.193404   7.408808  3.552338 -1.079553  4.224424 -2.519018 -0.461828   \n",
            "20176  1.276737  11.231808  1.345318 -5.643924 -5.346140 -0.435155 -5.505102   \n",
            "20177 -3.188106  -1.592124  5.270666  1.974485 -2.974411 -5.264236  0.577515   \n",
            "20178 -0.716981   8.172808  6.090378 -0.532820 -4.006591 -3.676613  0.319183   \n",
            "20179  5.017307   2.225261  5.574640  1.435204  1.660752 -6.943982 -5.215892   \n",
            "\n",
            "           PC50  \n",
            "0      0.433169  \n",
            "1     -5.664336  \n",
            "2     -1.911123  \n",
            "3     -1.376847  \n",
            "4     -4.447139  \n",
            "...         ...  \n",
            "20175  4.939279  \n",
            "20176  8.092107  \n",
            "20177  1.112934  \n",
            "20178 -1.843211  \n",
            "20179 -0.414247  \n",
            "\n",
            "[20180 rows x 50 columns]\n"
          ]
        }
      ]
    },
    {
      "cell_type": "code",
      "source": [
        "df['label'] = y"
      ],
      "metadata": {
        "id": "LUBXb-sgf9hL"
      },
      "execution_count": 5,
      "outputs": []
    },
    {
      "cell_type": "code",
      "source": [
        "def distance(x,y):\n",
        "  return np.linalg.norm(x-y)"
      ],
      "metadata": {
        "id": "ngNG7a3T_96m"
      },
      "execution_count": 6,
      "outputs": []
    },
    {
      "cell_type": "code",
      "source": [
        "def k_nearest_neighbors(p, points, k):\n",
        "    dist = [distance(p,p1) for p1 in points]\n",
        "    neighborId = np.argsort(dist)\n",
        "    neighbor = [points[i] for i in neighborId[:k]]\n",
        "\n",
        "    Knn = [neighbor,neighborId[:k]]\n",
        "    return Knn"
      ],
      "metadata": {
        "id": "dtxNbN17AAdj"
      },
      "execution_count": 7,
      "outputs": []
    },
    {
      "cell_type": "code",
      "source": [
        "import statistics as st\n",
        "\n",
        "def knn_predict(X_train, y_train, testPoint, k):\n",
        "  a,b = k_nearest_neighbors(testPoint,X_train,k)# a maps to the list of points and b maps to the list of indices\n",
        "  k_labels = [y_train[i] for i in b] #list of labels for the k nearest neighbors\n",
        "  return st.mode(k_labels)"
      ],
      "metadata": {
        "id": "WUOn_m1kN770"
      },
      "execution_count": 8,
      "outputs": []
    },
    {
      "cell_type": "code",
      "source": [
        "from sklearn.model_selection import train_test_split\n",
        "from sklearn.metrics import accuracy_score\n",
        "from tqdm import tqdm\n",
        "\n",
        "X_new = df.drop('label', axis=1)\n",
        "y_new = df['label']"
      ],
      "metadata": {
        "id": "BtrCzFc7NaqG"
      },
      "execution_count": 9,
      "outputs": []
    },
    {
      "cell_type": "code",
      "source": [
        "X_train, X_val, y_train, y_val = train_test_split(X_new, y_new, train_size=0.7, random_state=42)\n",
        "X_train=X_train.values\n",
        "y_train=y_train.values\n",
        "X_val=X_val.values\n",
        "y_val=y_val.values\n",
        "k=13\n",
        "predictions=[]"
      ],
      "metadata": {
        "id": "re1O-0N7NrK7"
      },
      "execution_count": 10,
      "outputs": []
    },
    {
      "cell_type": "code",
      "source": [
        "for testPoint in tqdm(X_val, desc=\"Predicting\", unit=\"sample\"):\n",
        "    predictions.append(knn_predict(X_train, y_train, testPoint, k))"
      ],
      "metadata": {
        "colab": {
          "base_uri": "https://localhost:8080/"
        },
        "id": "b7w75bnYNvps",
        "outputId": "4861dbf1-1b34-4dc9-941e-dc82ae852ce8"
      },
      "execution_count": 11,
      "outputs": [
        {
          "output_type": "stream",
          "name": "stderr",
          "text": [
            "Predicting: 100%|██████████| 6054/6054 [06:11<00:00, 16.29sample/s]\n"
          ]
        }
      ]
    },
    {
      "cell_type": "code",
      "source": [
        "accuracy = accuracy_score(y_val, predictions)\n",
        "print(f'Validation Accuracy: {accuracy * 100:.2f}%')"
      ],
      "metadata": {
        "colab": {
          "base_uri": "https://localhost:8080/"
        },
        "id": "mrgHsVBHNzCE",
        "outputId": "abb71cb9-c3e8-486d-ffd8-5867ea0020a7"
      },
      "execution_count": 12,
      "outputs": [
        {
          "output_type": "stream",
          "name": "stdout",
          "text": [
            "Validation Accuracy: 30.13%\n"
          ]
        }
      ]
    }
  ]
}