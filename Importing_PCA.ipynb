{
  "nbformat": 4,
  "nbformat_minor": 0,
  "metadata": {
    "colab": {
      "provenance": [],
      "include_colab_link": true
    },
    "kernelspec": {
      "name": "python3",
      "display_name": "Python 3"
    },
    "language_info": {
      "name": "python"
    }
  },
  "cells": [
    {
      "cell_type": "markdown",
      "metadata": {
        "id": "view-in-github",
        "colab_type": "text"
      },
      "source": [
        "<a href=\"https://colab.research.google.com/github/VivekanandaMudelli/hand_drawn_sketch_recognition/blob/main/Importing_PCA.ipynb\" target=\"_parent\"><img src=\"https://colab.research.google.com/assets/colab-badge.svg\" alt=\"Open In Colab\"/></a>"
      ]
    },
    {
      "cell_type": "code",
      "source": [
        "import gdown\n",
        "import pandas as pd\n",
        "import matplotlib.pyplot as plt\n",
        "import numpy as np\n",
        "\n",
        "# Replace FILE_ID with the actual ID from the shared link\n",
        "file_id = \"1EFQlS9C4YGT5CNjD_NX_Q-HaiyLH4sjE\"\n",
        "\n",
        "# Construct the direct download URL\n",
        "download_url = f\"https://drive.google.com/uc?id={file_id}\"\n",
        "\n",
        "# Download the file\n",
        "output = \"data.csv\"  # Change filename as needed\n",
        "gdown.download(download_url, output, quiet=False)\n",
        "\n",
        "# Read the CSV file\n",
        "df = pd.read_csv(output)\n",
        "df = df.dropna()\n",
        "\n",
        "X = df.drop(columns = ['label'])\n",
        "y = df['label']\n",
        "\n",
        "print(X.shape)\n",
        "print(y.shape)"
      ],
      "metadata": {
        "id": "IsiUnDmFKhip",
        "colab": {
          "base_uri": "https://localhost:8080/"
        },
        "outputId": "f31bb87b-d243-44ef-c2a4-11497d59c3c7"
      },
      "execution_count": 1,
      "outputs": [
        {
          "output_type": "stream",
          "name": "stderr",
          "text": [
            "Downloading...\n",
            "From (original): https://drive.google.com/uc?id=1EFQlS9C4YGT5CNjD_NX_Q-HaiyLH4sjE\n",
            "From (redirected): https://drive.google.com/uc?id=1EFQlS9C4YGT5CNjD_NX_Q-HaiyLH4sjE&confirm=t&uuid=7b1217a2-9c3d-4b46-a736-3d95ca31ba7a\n",
            "To: /content/data.csv\n",
            "100%|██████████| 943M/943M [00:11<00:00, 82.0MB/s]\n"
          ]
        },
        {
          "output_type": "stream",
          "name": "stdout",
          "text": [
            "(20180, 8100)\n",
            "(20180,)\n"
          ]
        }
      ]
    },
    {
      "cell_type": "code",
      "source": [
        "# Mean\n",
        "X_mean = X.mean()\n",
        "\n",
        "# Standard deviation\n",
        "X_std = X.std()\n",
        "\n",
        "# Standardization\n",
        "Z = (X - X_mean) / X_std.replace(0,1e-10)"
      ],
      "metadata": {
        "id": "of3vpW2EKrkb"
      },
      "execution_count": 2,
      "outputs": []
    },
    {
      "cell_type": "code",
      "execution_count": 4,
      "metadata": {
        "id": "wVvpHnvWE0Mg",
        "colab": {
          "base_uri": "https://localhost:8080/"
        },
        "outputId": "9e08052b-b5f3-415c-f60a-13c36db94cde"
      },
      "outputs": [
        {
          "output_type": "stream",
          "name": "stdout",
          "text": [
            "             PC1        PC2        PC3        PC4        PC5        PC6  \\\n",
            "0     -13.473498  14.170485  -8.592970  -0.276517  -4.310716 -12.837159   \n",
            "1      -7.392499  21.470417 -16.521424  -9.054980  10.826061   2.505688   \n",
            "2     -11.364221   4.819343  -5.701316  -9.767068  -3.730639 -13.074415   \n",
            "3      -9.464440   4.396213 -14.905356  -3.827590  -1.930120  -7.333155   \n",
            "4      -3.514694   4.805839 -10.267748   6.538963  -6.552484   2.683344   \n",
            "...          ...        ...        ...        ...        ...        ...   \n",
            "20175  -3.464935   7.745460 -29.708590 -10.414634  14.356322   2.594481   \n",
            "20176  -6.965887   8.512735  -5.489306   1.021765   0.134600  -6.489955   \n",
            "20177 -10.654562  -4.086706  -9.890633  -5.559354   9.865369   8.734751   \n",
            "20178   6.125788  -1.236722 -12.704955 -12.068881   0.344318  -0.449119   \n",
            "20179  -3.484752  13.398968 -10.478203  -7.359177   4.313188  19.720090   \n",
            "\n",
            "             PC7       PC8        PC9      PC10  ...    PC1491    PC1492  \\\n",
            "0       0.117438 -2.761707   1.108204 -0.902901  ...  0.671400 -0.611958   \n",
            "1       9.917848  6.224563  10.180446  1.488196  ... -1.295539  0.399950   \n",
            "2      -4.602594 -2.721346   0.244863  4.566435  ...  0.591358 -1.053246   \n",
            "3       1.197841 -2.874040  -3.848950  2.169882  ... -0.574783  0.209630   \n",
            "4      -3.320808 -6.301174  -4.507780  6.065617  ...  0.926589 -0.816294   \n",
            "...          ...       ...        ...       ...  ...       ...       ...   \n",
            "20175  -5.301077  7.073683  -3.786311 -4.542983  ...  2.719341 -1.134213   \n",
            "20176 -11.259448  5.768081  -6.178600 -8.472585  ...  1.299717  0.960818   \n",
            "20177   0.328011  1.587438   5.016704  0.546804  ...  0.529766  1.517294   \n",
            "20178  -0.514577  1.222892   0.729589  7.296035  ...  2.173180 -0.929757   \n",
            "20179  -2.924225  2.034997  -7.851021  8.275632  ... -1.729442 -1.849155   \n",
            "\n",
            "         PC1493    PC1494    PC1495    PC1496    PC1497    PC1498    PC1499  \\\n",
            "0     -1.377780  1.549297 -1.961292  0.938801  0.376383 -0.896566 -0.638550   \n",
            "1     -0.278002  1.862676  2.546568  0.843510 -0.610095 -1.635234  1.860401   \n",
            "2      1.585145  1.548557  0.081241  0.303361 -2.167157 -0.004117  0.094078   \n",
            "3     -0.149024 -0.205273 -0.152789 -1.333880 -1.143626  0.150964  1.007560   \n",
            "4     -0.447442  0.691985 -1.000783 -0.807556 -0.488133 -0.193048  0.939902   \n",
            "...         ...       ...       ...       ...       ...       ...       ...   \n",
            "20175  1.250586 -0.801760  0.389467  2.452284 -1.127427  0.498407 -0.029077   \n",
            "20176 -1.169160  1.644369 -1.196184  0.361928 -0.392506  0.368688  2.179866   \n",
            "20177 -1.971869 -0.695287  0.384967  2.042465 -0.652843 -0.249344 -0.315999   \n",
            "20178 -0.863255  0.125551  1.809350  1.417641  1.142405 -0.613161  1.518757   \n",
            "20179 -1.314769  1.572122  2.523345  0.485770  1.035768  2.016809  0.660982   \n",
            "\n",
            "         PC1500  \n",
            "0     -0.288369  \n",
            "1     -2.595502  \n",
            "2      0.409189  \n",
            "3     -0.081754  \n",
            "4      0.944803  \n",
            "...         ...  \n",
            "20175 -1.295495  \n",
            "20176 -0.202672  \n",
            "20177 -0.880378  \n",
            "20178  0.208447  \n",
            "20179  0.596465  \n",
            "\n",
            "[20180 rows x 1500 columns]\n"
          ]
        }
      ],
      "source": [
        "# Importing PCA\n",
        "from sklearn.decomposition import PCA\n",
        "\n",
        "# Let's say, components = 2\n",
        "pca = PCA(n_components=1500)\n",
        "pca.fit(Z)\n",
        "x_pca = pca.transform(Z)\n",
        "\n",
        "# Create the dataframe\n",
        "df_pca1 = pd.DataFrame(x_pca,\n",
        "                       columns=['PC{}'.\n",
        "                       format(i+1)\n",
        "                        for i in range(1500)])\n",
        "print(df_pca1)"
      ]
    },
    {
      "cell_type": "code",
      "source": [
        "from google.colab import files\n",
        "\n",
        "# Save as CSV\n",
        "df_pca1.to_csv('pca_data.csv', index=False)\n",
        "\n",
        "# Download file\n",
        "files.download('pca_data.csv')"
      ],
      "metadata": {
        "colab": {
          "base_uri": "https://localhost:8080/",
          "height": 17
        },
        "id": "4nWsiFOmU5US",
        "outputId": "900a8fd2-b55b-4585-9f61-65df4f41b0d4"
      },
      "execution_count": 5,
      "outputs": [
        {
          "output_type": "display_data",
          "data": {
            "text/plain": [
              "<IPython.core.display.Javascript object>"
            ],
            "application/javascript": [
              "\n",
              "    async function download(id, filename, size) {\n",
              "      if (!google.colab.kernel.accessAllowed) {\n",
              "        return;\n",
              "      }\n",
              "      const div = document.createElement('div');\n",
              "      const label = document.createElement('label');\n",
              "      label.textContent = `Downloading \"${filename}\": `;\n",
              "      div.appendChild(label);\n",
              "      const progress = document.createElement('progress');\n",
              "      progress.max = size;\n",
              "      div.appendChild(progress);\n",
              "      document.body.appendChild(div);\n",
              "\n",
              "      const buffers = [];\n",
              "      let downloaded = 0;\n",
              "\n",
              "      const channel = await google.colab.kernel.comms.open(id);\n",
              "      // Send a message to notify the kernel that we're ready.\n",
              "      channel.send({})\n",
              "\n",
              "      for await (const message of channel.messages) {\n",
              "        // Send a message to notify the kernel that we're ready.\n",
              "        channel.send({})\n",
              "        if (message.buffers) {\n",
              "          for (const buffer of message.buffers) {\n",
              "            buffers.push(buffer);\n",
              "            downloaded += buffer.byteLength;\n",
              "            progress.value = downloaded;\n",
              "          }\n",
              "        }\n",
              "      }\n",
              "      const blob = new Blob(buffers, {type: 'application/binary'});\n",
              "      const a = document.createElement('a');\n",
              "      a.href = window.URL.createObjectURL(blob);\n",
              "      a.download = filename;\n",
              "      div.appendChild(a);\n",
              "      a.click();\n",
              "      div.remove();\n",
              "    }\n",
              "  "
            ]
          },
          "metadata": {}
        },
        {
          "output_type": "display_data",
          "data": {
            "text/plain": [
              "<IPython.core.display.Javascript object>"
            ],
            "application/javascript": [
              "download(\"download_6da5ac81-bd10-44ad-8282-8d52d6147d9f\", \"pca_data.csv\", 588534239)"
            ]
          },
          "metadata": {}
        }
      ]
    }
  ]
}